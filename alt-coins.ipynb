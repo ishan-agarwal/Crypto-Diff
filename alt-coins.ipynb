{
 "cells": [
  {
   "cell_type": "code",
   "execution_count": 27,
   "metadata": {},
   "outputs": [],
   "source": [
    "from binance.client import Client\n",
    "import requests\n",
    "import json"
   ]
  },
  {
   "cell_type": "code",
   "execution_count": 28,
   "metadata": {},
   "outputs": [],
   "source": [
    "client = Client(\"<insert binance api key>\",\"<insert binance secret key>\")"
   ]
  },
  {
   "cell_type": "code",
   "execution_count": 34,
   "metadata": {
    "scrolled": true
   },
   "outputs": [],
   "source": [
    "# Binance\n",
    "coins = ['btcusdt', 'trxusdt', 'xrpusdt', 'eosusdt', 'ethusdt', 'icxusdt', 'ltcusdt', 'tusdusdt', 'hotusdt', 'batusdt', 'dashusdt', 'zilusdt', 'zrxusdt', 'bchusdt', 'bchsvusdt', 'usdcusdt', 'omgusdt', 'dentusdt', 'iostusdt', 'funusdt', 'thetausdt', 'xlmusdt', 'xtzusdt', 'bttusdt', 'fetusdt', 'tfuelusdt', 'celrusdt', 'maticusdt', 'adausdt', 'rvnusdt', 'xmrusdt', 'atomusdt', 'algousdt', 'linkusdt', 'qtumusdt', 'etcusdt', 'iotausdt', 'zecusdt', 'wavesusdt', 'ftmusdt', 'enjusdt', 'lskusdt', 'manausdt', 'repusdt', 'blzusdt', 'nanousdt', 'scusdt', 'btgusdt', 'xemusdt', 'btsusdt', 'ardrusdt', 'winusdt', 'bnbusdt', 'chzusdt', 'wrxusdt', 'kavausdt', 'ankrusdt', 'busdusdt', 'oneusdt', 'hiveusdt', 'fttusdt', 'bandusdt', 'jstusdt', 'ctsiusdt', 'chrusdt', 'tomousdt', 'stmxusdt', 'gxsusdt', 'lrcusdt', 'dogeusdt', 'neousdt', 'hbarusdt', 'storjusdt', 'compusdt', 'cotiusdt', 'dgbusdt', 'snxusdt', 'renusdt', 'sxpusdt', 'mkrusdt', 'avausdt', 'balusdt', 'srmusdt', 'egldusdt', 'cosusdt', 'nbsusdt', 'aionusdt', 'dotusdt', 'yfiusdt', 'iotxusdt', 'sandusdt', 'uniusdt', 'datausdt', 'paxusdt', 'umausdt', 'ksmusdt', 'yfiiusdt', 'aaveusdt', 'filusdt', 'crvusdt', 'nearusdt', 'hntusdt', 'avaxusdt', 'oxtusdt', 'dockusdt', 'duskusdt', 'wtcusdt','straxusdt', 'injusdt', 'vetusdt', 'mtlusdt', 'sushiusdt', 'firousdt', 'grtusdt', 'bntusdt', 'rsrusdt', '1inchusdt', 'lunausdt', 'pundixusdt', 'ckbusdt', 'gtousdt']\n",
    "\n",
    "all_prices = {}\n",
    "\n",
    "prices = client.get_all_tickers()\n",
    "# print(prices)\n",
    "\n",
    "for coin in prices:\n",
    "    if coin[\"symbol\"].lower() in coins:\n",
    "        all_prices[coin[\"symbol\"]]=float(coin[\"price\"])\n",
    "# print(all_prices)\n",
    "#         print(coin[\"symbol\"],\"->\",coin[\"price\"])\n",
    "# for coin in coins:\n",
    "#     ticker = client.get_ticker(symbol=coin.upper())\n",
    "#     print(ticker[\"symbol\"],\"->\",ticker[\"lastPrice\"])"
   ]
  },
  {
   "cell_type": "code",
   "execution_count": 35,
   "metadata": {},
   "outputs": [
    {
     "name": "stdout",
     "output_type": "stream",
     "text": [
      "{'qtumusdt': -3.1545947358108584, 'lskusdt': -2.9374506600084476, 'avausdt': -2.308799502061767, 'ankrusdt': -2.0307770694455334, 'rsrusdt': -1.9551210842035076, 'pundixusdt': -1.3719512195122066, 'zecusdt': -1.368408153261711, 'firousdt': -1.301793935545322, 'balusdt': -1.2829944911984845, 'neousdt': -1.221298940186292, 'ardrusdt': -1.1649765680849264, 'iotausdt': -1.0514584746583997, 'scusdt': -1.0360642067959234, '1inchusdt': -0.9168657061406904, 'umausdt': -0.9123093681917114, 'wavesusdt': -0.884841781501652, 'grtusdt': -0.8239478363959706, 'hntusdt': -0.7719500757521053, 'thetausdt': -0.7359663678446806, 'dashusdt': -0.7294933157286801, 'duskusdt': -0.7010834926704843, 'yfiusdt': -0.7006291716056077, 'fttusdt': -0.700100014287748, 'hbarusdt': -0.6967857945605772, 'aionusdt': -0.6906474820143923, 'dgbusdt': -0.6662965019433708, 'celrusdt': -0.6474697563469047, 'vetusdt': -0.6349539527195484, 'eosusdt': -0.6014492753623073, 'wtcusdt': -0.5810165073848911, 'sxpusdt': -0.5533199195171087, 'tfuelusdt': -0.5042124074546752, 'oneusdt': -0.4657623794737711, 'aaveusdt': -0.46137566137566877, 'ksmusdt': -0.45709428222029974, 'repusdt': -0.4555059873209568, 'chrusdt': -0.44331258253158734, 'paxusdt': -0.42249270697112784, 'algousdt': -0.40410958904109706, 'tusdusdt': -0.4022526146419955, 'datausdt': -0.39310553371636636, 'straxusdt': -0.38566751872281, 'icxusdt': -0.3579848074740236, 'usdcusdt': -0.35175879396985515, 'batusdt': -0.3495417119776253, 'hiveusdt': -0.3412969283276496, 'bchusdt': -0.3038619878455289, 'dogeusdt': -0.24555699812370044, 'ctsiusdt': -0.24454548928204098, 'busdusdt': -0.24096385542168253, 'avaxusdt': -0.2356615857608559, 'ckbusdt': -0.20077220077220062, 'kavausdt': -0.17821967920457865, 'xmrusdt': -0.17813613350834212, 'xemusdt': -0.17807173747137583, 'tomousdt': -0.1738257107540239, 'cosusdt': -0.17103762827821423, 'sandusdt': -0.15074166315350251, 'xtzusdt': -0.14472721359461055, 'renusdt': -0.1435193060044185, 'xrpusdt': -0.13644447169927906, 'cotiusdt': -0.13333333333333716, 'bttusdt': -0.10596601427350742, 'btsusdt': -0.09468881811138762, 'xlmusdt': -0.08562759442304052, 'hotusdt': -0.07434811572136761, 'etcusdt': -0.06267619125817643, 'adausdt': -0.06062781699972829, 'iostusdt': -0.05017421602788606, 'btgusdt': -0.04526885282103459, 'dotusdt': -0.04392347076260062, 'zilusdt': -0.04089979550102083, 'fetusdt': -0.039311119430932885, 'crvusdt': -0.032030749519549456, 'lrcusdt': -0.025054284282609567, 'omgusdt': 0.002481851461206307, 'uniusdt': 0.013193565309721678, 'trxusdt': 0.029029682850703602, 'nanousdt': 0.041950794186117975, 'wrxusdt': 0.13765161156272887, 'ethusdt': 0.1755625983264511, 'mkrusdt': 0.1802796874305649, 'manausdt': 0.20553372086636734, 'bnbusdt': 0.21315994686041972, 'btcusdt': 0.21781415675598326, 'ltcusdt': 0.22222222222223065, 'chzusdt': 0.23324168009859741, 'lunausdt': 0.24143541602620971, 'compusdt': 0.25081721181719685, 'gtousdt': 0.2659896022246546, 'bntusdt': 0.272558571097189, 'bandusdt': 0.2778443113772362, 'egldusdt': 0.2974781962003788, 'enjusdt': 0.31775567702219115, 'stmxusdt': 0.3213916075027629, 'snxusdt': 0.33465683494042825, 'dockusdt': 0.358893900764861, 'sushiusdt': 0.38110304163371556, 'mtlusdt': 0.40243729630155056, 'filusdt': 0.409038461538467, 'dentusdt': 0.46853422765830477, 'iotxusdt': 0.48014171172850517, 'maticusdt': 0.48486184192401555, 'yfiiusdt': 0.5738898325649137, 'jstusdt': 0.5792806143068837, 'injusdt': 0.6145481505890125, 'funusdt': 0.6353744738305247, 'storjusdt': 0.6672927685235563, 'zrxusdt': 0.6946816991231061, 'oxtusdt': 0.7644394110985379, 'winusdt': 0.8090045726345415, 'rvnusdt': 0.8952134540750372, 'atomusdt': 0.9078443425221059, 'srmusdt': 0.9252275355760068, 'nearusdt': 0.9751721178788022, 'nbsusdt': 1.045636069871646, 'blzusdt': 1.177378008665859, 'gxsusdt': 1.2064206113894205, 'ftmusdt': 1.5191740412979398, 'linkusdt': 4.455996010969838, 'bchsvusdt': 82.4163357912649}\n"
     ]
    }
   ],
   "source": [
    "# WazirX\n",
    "x = requests.get('https://api.wazirx.com/api/v2/tickers')\n",
    "\n",
    "js = json.loads(x.content)\n",
    "\n",
    "differences={}\n",
    "\n",
    "for coin in coins:\n",
    "    differences[coin]=(((float(js[coin][\"last\"])-all_prices[coin.upper()])/float(js[coin][\"last\"]))*100)\n",
    "\n",
    "# print(differences)\n",
    "print({k: v for k, v in sorted(differences.items(), key=lambda item: item[1])})\n",
    "# print(all_prices['BCHSVUSDT'])"
   ]
  },
  {
   "cell_type": "code",
   "execution_count": null,
   "metadata": {},
   "outputs": [],
   "source": []
  }
 ],
 "metadata": {
  "kernelspec": {
   "display_name": "Python 3",
   "language": "python",
   "name": "python3"
  },
  "language_info": {
   "codemirror_mode": {
    "name": "ipython",
    "version": 3
   },
   "file_extension": ".py",
   "mimetype": "text/x-python",
   "name": "python",
   "nbconvert_exporter": "python",
   "pygments_lexer": "ipython3",
   "version": "3.8.6"
  }
 },
 "nbformat": 4,
 "nbformat_minor": 4
}
